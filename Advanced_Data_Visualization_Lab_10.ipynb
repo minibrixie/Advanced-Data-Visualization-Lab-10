{
  "nbformat": 4,
  "nbformat_minor": 0,
  "metadata": {
    "colab": {
      "provenance": [],
      "authorship_tag": "ABX9TyMuqQtNbiJ3YmLWQdnwoGz4",
      "include_colab_link": true
    },
    "kernelspec": {
      "name": "python3",
      "display_name": "Python 3"
    },
    "language_info": {
      "name": "python"
    }
  },
  "cells": [
    {
      "cell_type": "markdown",
      "metadata": {
        "id": "view-in-github",
        "colab_type": "text"
      },
      "source": [
        "<a href=\"https://colab.research.google.com/github/minibrixie/Advanced-Data-Visualization-Lab-10/blob/main/Advanced_Data_Visualization_Lab_10.ipynb\" target=\"_parent\"><img src=\"https://colab.research.google.com/assets/colab-badge.svg\" alt=\"Open In Colab\"/></a>"
      ]
    },
    {
      "cell_type": "code",
      "execution_count": 1,
      "metadata": {
        "colab": {
          "base_uri": "https://localhost:8080/"
        },
        "id": "BGE5jpLi8SUX",
        "outputId": "d0ab461e-cfe6-4ed8-8ffc-369c363c6967"
      },
      "outputs": [
        {
          "output_type": "execute_result",
          "data": {
            "text/plain": [
              "3"
            ]
          },
          "metadata": {},
          "execution_count": 1
        }
      ],
      "source": [
        "random_list = [4, 1, 5, 4, 10, 4] \n",
        "random_list.count(4)"
      ]
    },
    {
      "cell_type": "code",
      "source": [
        "z = [3, 7, 4, 2]\n",
        "z.sort()\n",
        "print(z)"
      ],
      "metadata": {
        "colab": {
          "base_uri": "https://localhost:8080/"
        },
        "id": "fiv8x8Th8VgJ",
        "outputId": "dfa6919d-e3ae-43f0-b4fb-7069f75232f5"
      },
      "execution_count": 2,
      "outputs": [
        {
          "output_type": "stream",
          "name": "stdout",
          "text": [
            "[2, 3, 4, 7]\n"
          ]
        }
      ]
    },
    {
      "cell_type": "code",
      "source": [
        "z = [7, 4, 3, 2]\n",
        "z.append(3)\n",
        "print(z)"
      ],
      "metadata": {
        "colab": {
          "base_uri": "https://localhost:8080/"
        },
        "id": "ay2zwSfv8e5B",
        "outputId": "22d6ced4-9509-4077-a576-bf214e91fa8d"
      },
      "execution_count": 3,
      "outputs": [
        {
          "output_type": "stream",
          "name": "stdout",
          "text": [
            "[7, 4, 3, 2, 3]\n"
          ]
        }
      ]
    },
    {
      "cell_type": "code",
      "source": [
        "z = [7, 4, 3, 2, 3]\n",
        "z.remove(2)\n",
        "print(z)"
      ],
      "metadata": {
        "colab": {
          "base_uri": "https://localhost:8080/"
        },
        "id": "UpaXx18l8gHP",
        "outputId": "54502c07-1542-4e85-fcf1-9d2f26b9e501"
      },
      "execution_count": 4,
      "outputs": [
        {
          "output_type": "stream",
          "name": "stdout",
          "text": [
            "[7, 4, 3, 3]\n"
          ]
        }
      ]
    },
    {
      "cell_type": "code",
      "source": [
        "z = [7, 4, 3, 3]\n",
        "print(z.pop(1))\n",
        "print(z)"
      ],
      "metadata": {
        "colab": {
          "base_uri": "https://localhost:8080/"
        },
        "id": "-ohspfos8nGT",
        "outputId": "90e608c8-c7c3-433b-afc2-c1d6c4ca2eaf"
      },
      "execution_count": 5,
      "outputs": [
        {
          "output_type": "stream",
          "name": "stdout",
          "text": [
            "4\n",
            "[7, 3, 3]\n"
          ]
        }
      ]
    },
    {
      "cell_type": "code",
      "source": [
        "z = [7, 3, 3]\n",
        "z.extend([4,5])\n",
        "print(z)"
      ],
      "metadata": {
        "colab": {
          "base_uri": "https://localhost:8080/"
        },
        "id": "xYa4Fotk8sk3",
        "outputId": "3b349ded-da46-4452-c709-743492790ed4"
      },
      "execution_count": 6,
      "outputs": [
        {
          "output_type": "stream",
          "name": "stdout",
          "text": [
            "[7, 3, 3, 4, 5]\n"
          ]
        }
      ]
    },
    {
      "cell_type": "code",
      "source": [
        "z = [7, 3, 3, 4, 5]\n",
        "z.insert(4, [1, 2])\n",
        "print(z)"
      ],
      "metadata": {
        "colab": {
          "base_uri": "https://localhost:8080/"
        },
        "id": "YcFR2Dvd82Et",
        "outputId": "8367e986-df9d-40e3-ab75-58402c7c208f"
      },
      "execution_count": 7,
      "outputs": [
        {
          "output_type": "stream",
          "name": "stdout",
          "text": [
            "[7, 3, 3, 4, [1, 2], 5]\n"
          ]
        }
      ]
    }
  ]
}